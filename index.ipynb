{
 "cells": [
  {
   "cell_type": "markdown",
   "metadata": {},
   "source": [
    "# SQL Subqueries - Lab\n",
    "\n",
    "## Introduction\n",
    "\n",
    "Now that you've seen how subqueries work, it's time to get some practice writing them! Not all of the queries will require subqueries, but all will be a bit more complex and require some thought and review about aggregates, grouping, ordering, filtering, joins and subqueries. Good luck!  \n",
    "\n",
    "## Objectives\n",
    "\n",
    "You will be able to:\n",
    "\n",
    "* Write subqueries to decompose complex queries\n",
    "\n",
    "## CRM Database ERD\n",
    "\n",
    "Once again, here's the schema for the CRM database you'll continue to practice with.\n",
    "\n",
    "<img src=\"https://curriculum-content.s3.amazonaws.com/data-science/images/Database-Schema.png\" width=\"600\">\n",
    "\n",
    "## Connect to the Database\n",
    "\n",
    "As usual, start by importing the necessary packages and connecting to the database `data.sqlite`."
   ]
  },
  {
   "cell_type": "code",
   "execution_count": 25,
   "metadata": {},
   "outputs": [],
   "source": [
    "# Your code here; import the necessary packages\n",
    "import sqlite3\n",
    "import pandas as pd"
   ]
  },
  {
   "cell_type": "code",
   "execution_count": 26,
   "metadata": {},
   "outputs": [],
   "source": [
    "# Your code here; create the connection\n",
    "conn= sqlite3.connect('data.sqlite')"
   ]
  },
  {
   "cell_type": "markdown",
   "metadata": {},
   "source": [
    "## Write an Equivalent Query using a Subquery\n",
    "\n",
    "The following query works using a `JOIN`. Rewrite it so that it uses a subquery instead.\n",
    "\n",
    "```\n",
    "SELECT\n",
    "    customerNumber,\n",
    "    contactLastName,\n",
    "    contactFirstName\n",
    "FROM customers\n",
    "JOIN orders \n",
    "    USING(customerNumber)\n",
    "WHERE orderDate = '2003-01-31'\n",
    ";\n",
    "```"
   ]
  },
  {
   "cell_type": "code",
   "execution_count": 27,
   "metadata": {},
   "outputs": [
    {
     "data": {
      "application/vnd.microsoft.datawrangler.viewer.v0+json": {
       "columns": [
        {
         "name": "index",
         "rawType": "int64",
         "type": "integer"
        },
        {
         "name": "customerNumber",
         "rawType": "int64",
         "type": "integer"
        },
        {
         "name": "contactLastName",
         "rawType": "object",
         "type": "string"
        },
        {
         "name": "contactFirstName",
         "rawType": "object",
         "type": "string"
        }
       ],
       "conversionMethod": "pd.DataFrame",
       "ref": "912833c9-d1c4-4065-87b1-dded4abc83d9",
       "rows": [
        [
         "0",
         "141",
         "Freyre",
         "Diego "
        ]
       ],
       "shape": {
        "columns": 3,
        "rows": 1
       }
      },
      "text/html": [
       "<div>\n",
       "<style scoped>\n",
       "    .dataframe tbody tr th:only-of-type {\n",
       "        vertical-align: middle;\n",
       "    }\n",
       "\n",
       "    .dataframe tbody tr th {\n",
       "        vertical-align: top;\n",
       "    }\n",
       "\n",
       "    .dataframe thead th {\n",
       "        text-align: right;\n",
       "    }\n",
       "</style>\n",
       "<table border=\"1\" class=\"dataframe\">\n",
       "  <thead>\n",
       "    <tr style=\"text-align: right;\">\n",
       "      <th></th>\n",
       "      <th>customerNumber</th>\n",
       "      <th>contactLastName</th>\n",
       "      <th>contactFirstName</th>\n",
       "    </tr>\n",
       "  </thead>\n",
       "  <tbody>\n",
       "    <tr>\n",
       "      <th>0</th>\n",
       "      <td>141</td>\n",
       "      <td>Freyre</td>\n",
       "      <td>Diego</td>\n",
       "    </tr>\n",
       "  </tbody>\n",
       "</table>\n",
       "</div>"
      ],
      "text/plain": [
       "   customerNumber contactLastName contactFirstName\n",
       "0             141          Freyre           Diego "
      ]
     },
     "execution_count": 27,
     "metadata": {},
     "output_type": "execute_result"
    }
   ],
   "source": [
    "# Your code here\n",
    "p = \"\"\"\n",
    "SELECT\n",
    "   customerNumber,\n",
    "   contactLastName,\n",
    "   contactFirstName\n",
    "FROM customers\n",
    "WHERE customerNumber IN (SELECT customerNumber\n",
    "       FROM orders\n",
    "       WHERE orderDate = '2003-01-31')\n",
    "\"\"\"\n",
    "\n",
    "pd.read_sql(p, conn)"
   ]
  },
  {
   "cell_type": "markdown",
   "metadata": {},
   "source": [
    "## Select the Total Number of Orders for Each Product Name\n",
    "\n",
    "Sort the results by the total number of items sold for that product."
   ]
  },
  {
   "cell_type": "code",
   "execution_count": 28,
   "metadata": {},
   "outputs": [
    {
     "data": {
      "application/vnd.microsoft.datawrangler.viewer.v0+json": {
       "columns": [
        {
         "name": "index",
         "rawType": "int64",
         "type": "integer"
        },
        {
         "name": "productName",
         "rawType": "object",
         "type": "string"
        },
        {
         "name": "total_items_sold",
         "rawType": "float64",
         "type": "float"
        }
       ],
       "conversionMethod": "pd.DataFrame",
       "ref": "dacb92de-a0bc-4545-9964-0461be0bacf1",
       "rows": [
        [
         "0",
         "1992 Ferrari 360 Spider red",
         "1808.0"
        ],
        [
         "1",
         "1937 Lincoln Berline",
         "1111.0"
        ],
        [
         "2",
         "American Airlines: MD-11S",
         "1085.0"
        ],
        [
         "3",
         "1941 Chevrolet Special Deluxe Cabriolet",
         "1076.0"
        ],
        [
         "4",
         "1930 Buick Marquette Phaeton",
         "1074.0"
        ],
        [
         "5",
         "1940s Ford truck",
         "1061.0"
        ],
        [
         "6",
         "1969 Harley Davidson Ultimate Chopper",
         "1057.0"
        ],
        [
         "7",
         "1957 Chevy Pickup",
         "1056.0"
        ],
        [
         "8",
         "1964 Mercedes Tour Bus",
         "1053.0"
        ],
        [
         "9",
         "1956 Porsche 356A Coupe",
         "1052.0"
        ],
        [
         "10",
         "Corsair F4U ( Bird Cage)",
         "1051.0"
        ],
        [
         "11",
         "F/A 18 Hornet 1/72",
         "1047.0"
        ],
        [
         "12",
         "1980s Black Hawk Helicopter",
         "1040.0"
        ],
        [
         "13",
         "1913 Ford Model T Speedster",
         "1038.0"
        ],
        [
         "14",
         "1997 BMW R 1100 S",
         "1033.0"
        ],
        [
         "15",
         "1972 Alfa Romeo GTA",
         "1030.0"
        ],
        [
         "16",
         "1962 Volkswagen Microbus",
         "1029.0"
        ],
        [
         "17",
         "2002 Suzuki XREO",
         "1028.0"
        ],
        [
         "18",
         "The USS Constitution Ship",
         "1020.0"
        ],
        [
         "19",
         "2001 Ferrari Enzo",
         "1019.0"
        ],
        [
         "20",
         "1960 BSA Gold Star DBD34",
         "1015.0"
        ],
        [
         "21",
         "1997 BMW F650 ST",
         "1014.0"
        ],
        [
         "22",
         "1957 Corvette Convertible",
         "1013.0"
        ],
        [
         "23",
         "18th century schooner",
         "1011.0"
        ],
        [
         "24",
         "1900s Vintage Tri-Plane",
         "1009.0"
        ],
        [
         "25",
         "1996 Moto Guzzi 1100i",
         "999.0"
        ],
        [
         "26",
         "1940 Ford Pickup Truck",
         "999.0"
        ],
        [
         "27",
         "1926 Ford Fire Engine",
         "998.0"
        ],
        [
         "28",
         "1982 Camaro Z28",
         "997.0"
        ],
        [
         "29",
         "1939 Cadillac Limousine",
         "995.0"
        ],
        [
         "30",
         "1969 Dodge Charger",
         "992.0"
        ],
        [
         "31",
         "1917 Maxwell Touring Car",
         "992.0"
        ],
        [
         "32",
         "2002 Yamaha YZR M1",
         "992.0"
        ],
        [
         "33",
         "1912 Ford Model T Delivery Wagon",
         "991.0"
        ],
        [
         "34",
         "1904 Buick Runabout",
         "990.0"
        ],
        [
         "35",
         "1996 Peterbilt 379 Stake Bed with Outrigger",
         "988.0"
        ],
        [
         "36",
         "1998 Chrysler Plymouth Prowler",
         "986.0"
        ],
        [
         "37",
         "2003 Harley-Davidson Eagle Drag Bike",
         "985.0"
        ],
        [
         "38",
         "1934 Ford V8 Coupe",
         "985.0"
        ],
        [
         "39",
         "America West Airlines B757-200",
         "984.0"
        ],
        [
         "40",
         "1958 Chevy Corvette Limited Edition",
         "983.0"
        ],
        [
         "41",
         "1936 Chrysler Airflow",
         "983.0"
        ],
        [
         "42",
         "Diamond T620 Semi-Skirted Tanker",
         "979.0"
        ],
        [
         "43",
         "1970 Dodge Coronet",
         "976.0"
        ],
        [
         "44",
         "1969 Dodge Super Bee",
         "974.0"
        ],
        [
         "45",
         "ATA: B757-300",
         "973.0"
        ],
        [
         "46",
         "1958 Setra Bus",
         "972.0"
        ],
        [
         "47",
         "1948 Porsche 356-A Roadster",
         "972.0"
        ],
        [
         "48",
         "1928 British Royal Navy Airplane",
         "972.0"
        ],
        [
         "49",
         "1928 Ford Phaeton Deluxe",
         "972.0"
        ]
       ],
       "shape": {
        "columns": 2,
        "rows": 110
       }
      },
      "text/html": [
       "<div>\n",
       "<style scoped>\n",
       "    .dataframe tbody tr th:only-of-type {\n",
       "        vertical-align: middle;\n",
       "    }\n",
       "\n",
       "    .dataframe tbody tr th {\n",
       "        vertical-align: top;\n",
       "    }\n",
       "\n",
       "    .dataframe thead th {\n",
       "        text-align: right;\n",
       "    }\n",
       "</style>\n",
       "<table border=\"1\" class=\"dataframe\">\n",
       "  <thead>\n",
       "    <tr style=\"text-align: right;\">\n",
       "      <th></th>\n",
       "      <th>productName</th>\n",
       "      <th>total_items_sold</th>\n",
       "    </tr>\n",
       "  </thead>\n",
       "  <tbody>\n",
       "    <tr>\n",
       "      <th>0</th>\n",
       "      <td>1992 Ferrari 360 Spider red</td>\n",
       "      <td>1808.0</td>\n",
       "    </tr>\n",
       "    <tr>\n",
       "      <th>1</th>\n",
       "      <td>1937 Lincoln Berline</td>\n",
       "      <td>1111.0</td>\n",
       "    </tr>\n",
       "    <tr>\n",
       "      <th>2</th>\n",
       "      <td>American Airlines: MD-11S</td>\n",
       "      <td>1085.0</td>\n",
       "    </tr>\n",
       "    <tr>\n",
       "      <th>3</th>\n",
       "      <td>1941 Chevrolet Special Deluxe Cabriolet</td>\n",
       "      <td>1076.0</td>\n",
       "    </tr>\n",
       "    <tr>\n",
       "      <th>4</th>\n",
       "      <td>1930 Buick Marquette Phaeton</td>\n",
       "      <td>1074.0</td>\n",
       "    </tr>\n",
       "    <tr>\n",
       "      <th>...</th>\n",
       "      <td>...</td>\n",
       "      <td>...</td>\n",
       "    </tr>\n",
       "    <tr>\n",
       "      <th>105</th>\n",
       "      <td>1911 Ford Town Car</td>\n",
       "      <td>832.0</td>\n",
       "    </tr>\n",
       "    <tr>\n",
       "      <th>106</th>\n",
       "      <td>1936 Mercedes Benz 500k Roadster</td>\n",
       "      <td>824.0</td>\n",
       "    </tr>\n",
       "    <tr>\n",
       "      <th>107</th>\n",
       "      <td>1970 Chevy Chevelle SS 454</td>\n",
       "      <td>803.0</td>\n",
       "    </tr>\n",
       "    <tr>\n",
       "      <th>108</th>\n",
       "      <td>1957 Ford Thunderbird</td>\n",
       "      <td>767.0</td>\n",
       "    </tr>\n",
       "    <tr>\n",
       "      <th>109</th>\n",
       "      <td>1985 Toyota Supra</td>\n",
       "      <td>NaN</td>\n",
       "    </tr>\n",
       "  </tbody>\n",
       "</table>\n",
       "<p>110 rows × 2 columns</p>\n",
       "</div>"
      ],
      "text/plain": [
       "                                 productName  total_items_sold\n",
       "0                1992 Ferrari 360 Spider red            1808.0\n",
       "1                       1937 Lincoln Berline            1111.0\n",
       "2                  American Airlines: MD-11S            1085.0\n",
       "3    1941 Chevrolet Special Deluxe Cabriolet            1076.0\n",
       "4               1930 Buick Marquette Phaeton            1074.0\n",
       "..                                       ...               ...\n",
       "105                       1911 Ford Town Car             832.0\n",
       "106         1936 Mercedes Benz 500k Roadster             824.0\n",
       "107               1970 Chevy Chevelle SS 454             803.0\n",
       "108                    1957 Ford Thunderbird             767.0\n",
       "109                        1985 Toyota Supra               NaN\n",
       "\n",
       "[110 rows x 2 columns]"
      ]
     },
     "execution_count": 28,
     "metadata": {},
     "output_type": "execute_result"
    }
   ],
   "source": [
    "p= \"\"\"\n",
    "SELECT  p.productName,\n",
    "    (\n",
    "        SELECT SUM(od.quantityOrdered)\n",
    "        FROM orderdetails od\n",
    "        WHERE od.productCode = p.productCode\n",
    "    ) AS total_items_sold\n",
    "FROM products p\n",
    "ORDER BY total_items_sold DESC;\n",
    "\"\"\"\n",
    "\n",
    "pd.read_sql(p, conn)\n"
   ]
  },
  {
   "cell_type": "markdown",
   "metadata": {},
   "source": [
    "## Select the Product Name and the  Total Number of People Who Have Ordered Each Product\n",
    "\n",
    "Sort the results in descending order."
   ]
  },
  {
   "cell_type": "markdown",
   "metadata": {},
   "source": [
    "### A quick note on the SQL  `SELECT DISTINCT` statement:"
   ]
  },
  {
   "cell_type": "markdown",
   "metadata": {},
   "source": [
    "The `SELECT DISTINCT` statement is used to return only distinct values in the specified column. In other words, it removes the duplicate values in the column from the result set.\n",
    "\n",
    "Inside a table, a column often contains many duplicate values; and sometimes you only want to list the unique values. If you apply the `DISTINCT` clause to a column that has `NULL`, the `DISTINCT` clause will keep only one NULL and eliminates the other. In other words, the DISTINCT clause treats all `NULL` “values” as the same value."
   ]
  },
  {
   "cell_type": "code",
   "execution_count": 29,
   "metadata": {},
   "outputs": [
    {
     "data": {
      "application/vnd.microsoft.datawrangler.viewer.v0+json": {
       "columns": [
        {
         "name": "index",
         "rawType": "int64",
         "type": "integer"
        },
        {
         "name": "productName",
         "rawType": "object",
         "type": "string"
        },
        {
         "name": "NumCustomers",
         "rawType": "int64",
         "type": "integer"
        }
       ],
       "conversionMethod": "pd.DataFrame",
       "ref": "18b26e80-af21-4b15-b980-5ecbc638512a",
       "rows": [
        [
         "0",
         "1992 Ferrari 360 Spider red",
         "40"
        ],
        [
         "1",
         "Boeing X-32A JSF",
         "27"
        ],
        [
         "2",
         "1972 Alfa Romeo GTA",
         "27"
        ],
        [
         "3",
         "1952 Alpine Renault 1300",
         "27"
        ],
        [
         "4",
         "1934 Ford V8 Coupe",
         "27"
        ],
        [
         "5",
         "HMS Bounty",
         "26"
        ],
        [
         "6",
         "Corsair F4U ( Bird Cage)",
         "26"
        ],
        [
         "7",
         "American Airlines: MD-11S",
         "26"
        ],
        [
         "8",
         "1999 Yamaha Speed Boat",
         "26"
        ],
        [
         "9",
         "1996 Moto Guzzi 1100i",
         "26"
        ],
        [
         "10",
         "1995 Honda Civic",
         "26"
        ],
        [
         "11",
         "1980s Black Hawk Helicopter",
         "26"
        ],
        [
         "12",
         "1969 Harley Davidson Ultimate Chopper",
         "26"
        ],
        [
         "13",
         "1941 Chevrolet Special Deluxe Cabriolet",
         "26"
        ],
        [
         "14",
         "1940 Ford Delivery Sedan",
         "26"
        ],
        [
         "15",
         "1937 Horch 930V Limousine",
         "26"
        ],
        [
         "16",
         "1913 Ford Model T Speedster",
         "26"
        ],
        [
         "17",
         "1900s Vintage Bi-Plane",
         "26"
        ],
        [
         "18",
         "18th Century Vintage Horse Carriage",
         "26"
        ],
        [
         "19",
         "America West Airlines B757-200",
         "25"
        ],
        [
         "20",
         "ATA: B757-300",
         "25"
        ],
        [
         "21",
         "2003 Harley-Davidson Eagle Drag Bike",
         "25"
        ],
        [
         "22",
         "2002 Suzuki XREO",
         "25"
        ],
        [
         "23",
         "1997 BMW R 1100 S",
         "25"
        ],
        [
         "24",
         "1993 Mazda RX-7",
         "25"
        ],
        [
         "25",
         "1962 LanciaA Delta 16V",
         "25"
        ],
        [
         "26",
         "1960 BSA Gold Star DBD34",
         "25"
        ],
        [
         "27",
         "1948 Porsche 356-A Roadster",
         "25"
        ],
        [
         "28",
         "1940s Ford truck",
         "25"
        ],
        [
         "29",
         "1940 Ford Pickup Truck",
         "25"
        ],
        [
         "30",
         "1937 Lincoln Berline",
         "25"
        ],
        [
         "31",
         "1936 Mercedes-Benz 500K Special Roadster",
         "25"
        ],
        [
         "32",
         "1936 Harley Davidson El Knucklehead",
         "25"
        ],
        [
         "33",
         "1912 Ford Model T Delivery Wagon",
         "25"
        ],
        [
         "34",
         "The Queen Mary",
         "24"
        ],
        [
         "35",
         "Pont Yacht",
         "24"
        ],
        [
         "36",
         "P-51-D Mustang",
         "24"
        ],
        [
         "37",
         "F/A 18 Hornet 1/72",
         "24"
        ],
        [
         "38",
         "2002 Yamaha YZR M1",
         "24"
        ],
        [
         "39",
         "1997 BMW F650 ST",
         "24"
        ],
        [
         "40",
         "1969 Dodge Charger",
         "24"
        ],
        [
         "41",
         "1939 Chevrolet Deluxe Coupe",
         "24"
        ],
        [
         "42",
         "1936 Chrysler Airflow",
         "24"
        ],
        [
         "43",
         "1932 Model A Ford J-Coupe",
         "24"
        ],
        [
         "44",
         "1917 Maxwell Touring Car",
         "24"
        ],
        [
         "45",
         "1917 Grand Touring Sedan",
         "24"
        ],
        [
         "46",
         "18th century schooner",
         "24"
        ],
        [
         "47",
         "The USS Constitution Ship",
         "23"
        ],
        [
         "48",
         "The Schooner Bluenose",
         "23"
        ],
        [
         "49",
         "American Airlines: B767-300",
         "23"
        ]
       ],
       "shape": {
        "columns": 2,
        "rows": 109
       }
      },
      "text/html": [
       "<div>\n",
       "<style scoped>\n",
       "    .dataframe tbody tr th:only-of-type {\n",
       "        vertical-align: middle;\n",
       "    }\n",
       "\n",
       "    .dataframe tbody tr th {\n",
       "        vertical-align: top;\n",
       "    }\n",
       "\n",
       "    .dataframe thead th {\n",
       "        text-align: right;\n",
       "    }\n",
       "</style>\n",
       "<table border=\"1\" class=\"dataframe\">\n",
       "  <thead>\n",
       "    <tr style=\"text-align: right;\">\n",
       "      <th></th>\n",
       "      <th>productName</th>\n",
       "      <th>NumCustomers</th>\n",
       "    </tr>\n",
       "  </thead>\n",
       "  <tbody>\n",
       "    <tr>\n",
       "      <th>0</th>\n",
       "      <td>1992 Ferrari 360 Spider red</td>\n",
       "      <td>40</td>\n",
       "    </tr>\n",
       "    <tr>\n",
       "      <th>1</th>\n",
       "      <td>Boeing X-32A JSF</td>\n",
       "      <td>27</td>\n",
       "    </tr>\n",
       "    <tr>\n",
       "      <th>2</th>\n",
       "      <td>1972 Alfa Romeo GTA</td>\n",
       "      <td>27</td>\n",
       "    </tr>\n",
       "    <tr>\n",
       "      <th>3</th>\n",
       "      <td>1952 Alpine Renault 1300</td>\n",
       "      <td>27</td>\n",
       "    </tr>\n",
       "    <tr>\n",
       "      <th>4</th>\n",
       "      <td>1934 Ford V8 Coupe</td>\n",
       "      <td>27</td>\n",
       "    </tr>\n",
       "    <tr>\n",
       "      <th>...</th>\n",
       "      <td>...</td>\n",
       "      <td>...</td>\n",
       "    </tr>\n",
       "    <tr>\n",
       "      <th>104</th>\n",
       "      <td>1958 Chevy Corvette Limited Edition</td>\n",
       "      <td>19</td>\n",
       "    </tr>\n",
       "    <tr>\n",
       "      <th>105</th>\n",
       "      <td>2002 Chevy Corvette</td>\n",
       "      <td>18</td>\n",
       "    </tr>\n",
       "    <tr>\n",
       "      <th>106</th>\n",
       "      <td>1969 Chevrolet Camaro Z28</td>\n",
       "      <td>18</td>\n",
       "    </tr>\n",
       "    <tr>\n",
       "      <th>107</th>\n",
       "      <td>1952 Citroen-15CV</td>\n",
       "      <td>18</td>\n",
       "    </tr>\n",
       "    <tr>\n",
       "      <th>108</th>\n",
       "      <td>1949 Jaguar XK 120</td>\n",
       "      <td>18</td>\n",
       "    </tr>\n",
       "  </tbody>\n",
       "</table>\n",
       "<p>109 rows × 2 columns</p>\n",
       "</div>"
      ],
      "text/plain": [
       "                             productName  NumCustomers\n",
       "0            1992 Ferrari 360 Spider red            40\n",
       "1                       Boeing X-32A JSF            27\n",
       "2                    1972 Alfa Romeo GTA            27\n",
       "3               1952 Alpine Renault 1300            27\n",
       "4                     1934 Ford V8 Coupe            27\n",
       "..                                   ...           ...\n",
       "104  1958 Chevy Corvette Limited Edition            19\n",
       "105                  2002 Chevy Corvette            18\n",
       "106            1969 Chevrolet Camaro Z28            18\n",
       "107                    1952 Citroen-15CV            18\n",
       "108                   1949 Jaguar XK 120            18\n",
       "\n",
       "[109 rows x 2 columns]"
      ]
     },
     "execution_count": 29,
     "metadata": {},
     "output_type": "execute_result"
    }
   ],
   "source": [
    "# Your code here\n",
    "# Hint: because one of the tables we'll be joining has duplicate customer numbers, you should use DISTINCT\n",
    "p= \"\"\"  \n",
    "SELECT \n",
    "    p.productName,\n",
    "    COUNT(DISTINCT pc.customerNumber) AS NumCustomers\n",
    "FROM products p\n",
    "JOIN (\n",
    "    SELECT \n",
    "        od.productCode,\n",
    "        o.customerNumber\n",
    "    FROM orderdetails od\n",
    "    JOIN orders o ON od.orderNumber = o.orderNumber\n",
    ") AS pc ON p.productCode = pc.productCode\n",
    "GROUP BY p.productName\n",
    "ORDER BY NumCustomers DESC;\n",
    "\"\"\"\n",
    "\n",
    "pd.read_sql(p, conn)\n"
   ]
  },
  {
   "cell_type": "markdown",
   "metadata": {},
   "source": [
    "## Select the Employee Number, First Name, Last Name, City (of the office), and Office Code of the Employees Who Sold Products That Have Been Ordered by Fewer Than 20 people.\n",
    "\n",
    "This problem is a bit tougher. To start, think about how you might break the problem up. Be sure that your results only list each employee once."
   ]
  },
  {
   "cell_type": "code",
   "execution_count": 30,
   "metadata": {},
   "outputs": [
    {
     "data": {
      "application/vnd.microsoft.datawrangler.viewer.v0+json": {
       "columns": [
        {
         "name": "index",
         "rawType": "int64",
         "type": "integer"
        },
        {
         "name": "employeeNumber",
         "rawType": "int64",
         "type": "integer"
        },
        {
         "name": "firstName",
         "rawType": "object",
         "type": "string"
        },
        {
         "name": "lastName",
         "rawType": "object",
         "type": "string"
        },
        {
         "name": "city",
         "rawType": "object",
         "type": "string"
        },
        {
         "name": "officeCode",
         "rawType": "int64",
         "type": "integer"
        }
       ],
       "conversionMethod": "pd.DataFrame",
       "ref": "1826f7d6-6ab6-40fc-b3b6-0270382172c5",
       "rows": [
        [
         "0",
         "1501",
         "Larry",
         "Bott",
         "London",
         "7"
        ],
        [
         "1",
         "1166",
         "Leslie",
         "Thompson",
         "San Francisco",
         "1"
        ],
        [
         "2",
         "1612",
         "Peter",
         "Marsh",
         "Sydney",
         "6"
        ],
        [
         "3",
         "1611",
         "Andy",
         "Fixter",
         "Sydney",
         "6"
        ],
        [
         "4",
         "1401",
         "Pamela",
         "Castillo",
         "Paris",
         "4"
        ],
        [
         "5",
         "1323",
         "George",
         "Vanauf",
         "NYC",
         "3"
        ],
        [
         "6",
         "1165",
         "Leslie",
         "Jennings",
         "San Francisco",
         "1"
        ],
        [
         "7",
         "1216",
         "Steve",
         "Patterson",
         "Boston",
         "2"
        ],
        [
         "8",
         "1286",
         "Foon Yue",
         "Tseng",
         "NYC",
         "3"
        ],
        [
         "9",
         "1370",
         "Gerard",
         "Hernandez",
         "Paris",
         "4"
        ],
        [
         "10",
         "1337",
         "Loui",
         "Bondur",
         "Paris",
         "4"
        ],
        [
         "11",
         "1621",
         "Mami",
         "Nishi",
         "Tokyo",
         "5"
        ],
        [
         "12",
         "1702",
         "Martin",
         "Gerard",
         "Paris",
         "4"
        ],
        [
         "13",
         "1188",
         "Julie",
         "Firrelli",
         "Boston",
         "2"
        ],
        [
         "14",
         "1504",
         "Barry",
         "Jones",
         "London",
         "7"
        ]
       ],
       "shape": {
        "columns": 5,
        "rows": 15
       }
      },
      "text/html": [
       "<div>\n",
       "<style scoped>\n",
       "    .dataframe tbody tr th:only-of-type {\n",
       "        vertical-align: middle;\n",
       "    }\n",
       "\n",
       "    .dataframe tbody tr th {\n",
       "        vertical-align: top;\n",
       "    }\n",
       "\n",
       "    .dataframe thead th {\n",
       "        text-align: right;\n",
       "    }\n",
       "</style>\n",
       "<table border=\"1\" class=\"dataframe\">\n",
       "  <thead>\n",
       "    <tr style=\"text-align: right;\">\n",
       "      <th></th>\n",
       "      <th>employeeNumber</th>\n",
       "      <th>firstName</th>\n",
       "      <th>lastName</th>\n",
       "      <th>city</th>\n",
       "      <th>officeCode</th>\n",
       "    </tr>\n",
       "  </thead>\n",
       "  <tbody>\n",
       "    <tr>\n",
       "      <th>0</th>\n",
       "      <td>1501</td>\n",
       "      <td>Larry</td>\n",
       "      <td>Bott</td>\n",
       "      <td>London</td>\n",
       "      <td>7</td>\n",
       "    </tr>\n",
       "    <tr>\n",
       "      <th>1</th>\n",
       "      <td>1166</td>\n",
       "      <td>Leslie</td>\n",
       "      <td>Thompson</td>\n",
       "      <td>San Francisco</td>\n",
       "      <td>1</td>\n",
       "    </tr>\n",
       "    <tr>\n",
       "      <th>2</th>\n",
       "      <td>1612</td>\n",
       "      <td>Peter</td>\n",
       "      <td>Marsh</td>\n",
       "      <td>Sydney</td>\n",
       "      <td>6</td>\n",
       "    </tr>\n",
       "    <tr>\n",
       "      <th>3</th>\n",
       "      <td>1611</td>\n",
       "      <td>Andy</td>\n",
       "      <td>Fixter</td>\n",
       "      <td>Sydney</td>\n",
       "      <td>6</td>\n",
       "    </tr>\n",
       "    <tr>\n",
       "      <th>4</th>\n",
       "      <td>1401</td>\n",
       "      <td>Pamela</td>\n",
       "      <td>Castillo</td>\n",
       "      <td>Paris</td>\n",
       "      <td>4</td>\n",
       "    </tr>\n",
       "    <tr>\n",
       "      <th>5</th>\n",
       "      <td>1323</td>\n",
       "      <td>George</td>\n",
       "      <td>Vanauf</td>\n",
       "      <td>NYC</td>\n",
       "      <td>3</td>\n",
       "    </tr>\n",
       "    <tr>\n",
       "      <th>6</th>\n",
       "      <td>1165</td>\n",
       "      <td>Leslie</td>\n",
       "      <td>Jennings</td>\n",
       "      <td>San Francisco</td>\n",
       "      <td>1</td>\n",
       "    </tr>\n",
       "    <tr>\n",
       "      <th>7</th>\n",
       "      <td>1216</td>\n",
       "      <td>Steve</td>\n",
       "      <td>Patterson</td>\n",
       "      <td>Boston</td>\n",
       "      <td>2</td>\n",
       "    </tr>\n",
       "    <tr>\n",
       "      <th>8</th>\n",
       "      <td>1286</td>\n",
       "      <td>Foon Yue</td>\n",
       "      <td>Tseng</td>\n",
       "      <td>NYC</td>\n",
       "      <td>3</td>\n",
       "    </tr>\n",
       "    <tr>\n",
       "      <th>9</th>\n",
       "      <td>1370</td>\n",
       "      <td>Gerard</td>\n",
       "      <td>Hernandez</td>\n",
       "      <td>Paris</td>\n",
       "      <td>4</td>\n",
       "    </tr>\n",
       "    <tr>\n",
       "      <th>10</th>\n",
       "      <td>1337</td>\n",
       "      <td>Loui</td>\n",
       "      <td>Bondur</td>\n",
       "      <td>Paris</td>\n",
       "      <td>4</td>\n",
       "    </tr>\n",
       "    <tr>\n",
       "      <th>11</th>\n",
       "      <td>1621</td>\n",
       "      <td>Mami</td>\n",
       "      <td>Nishi</td>\n",
       "      <td>Tokyo</td>\n",
       "      <td>5</td>\n",
       "    </tr>\n",
       "    <tr>\n",
       "      <th>12</th>\n",
       "      <td>1702</td>\n",
       "      <td>Martin</td>\n",
       "      <td>Gerard</td>\n",
       "      <td>Paris</td>\n",
       "      <td>4</td>\n",
       "    </tr>\n",
       "    <tr>\n",
       "      <th>13</th>\n",
       "      <td>1188</td>\n",
       "      <td>Julie</td>\n",
       "      <td>Firrelli</td>\n",
       "      <td>Boston</td>\n",
       "      <td>2</td>\n",
       "    </tr>\n",
       "    <tr>\n",
       "      <th>14</th>\n",
       "      <td>1504</td>\n",
       "      <td>Barry</td>\n",
       "      <td>Jones</td>\n",
       "      <td>London</td>\n",
       "      <td>7</td>\n",
       "    </tr>\n",
       "  </tbody>\n",
       "</table>\n",
       "</div>"
      ],
      "text/plain": [
       "    employeeNumber firstName   lastName           city  officeCode\n",
       "0             1501     Larry       Bott         London           7\n",
       "1             1166    Leslie   Thompson  San Francisco           1\n",
       "2             1612     Peter      Marsh         Sydney           6\n",
       "3             1611      Andy     Fixter         Sydney           6\n",
       "4             1401    Pamela   Castillo          Paris           4\n",
       "5             1323    George     Vanauf            NYC           3\n",
       "6             1165    Leslie   Jennings  San Francisco           1\n",
       "7             1216     Steve  Patterson         Boston           2\n",
       "8             1286  Foon Yue      Tseng            NYC           3\n",
       "9             1370    Gerard  Hernandez          Paris           4\n",
       "10            1337      Loui     Bondur          Paris           4\n",
       "11            1621      Mami      Nishi          Tokyo           5\n",
       "12            1702    Martin     Gerard          Paris           4\n",
       "13            1188     Julie   Firrelli         Boston           2\n",
       "14            1504     Barry      Jones         London           7"
      ]
     },
     "execution_count": 30,
     "metadata": {},
     "output_type": "execute_result"
    }
   ],
   "source": [
    "# Your code here\n",
    "p = \"\"\"\n",
    "SELECT DISTINCT \n",
    "    e.employeeNumber,\n",
    "    e.firstName,\n",
    "    e.lastName,\n",
    "    oof.city,\n",
    "    e.officeCode\n",
    "FROM employees e\n",
    "JOIN customers c ON e.employeeNumber = c.salesRepEmployeeNumber\n",
    "JOIN orders o ON c.customerNumber = o.customerNumber\n",
    "JOIN orderdetails od ON o.orderNumber = od.orderNumber\n",
    "JOIN products p ON od.productCode = p.productCode\n",
    "JOIN offices oof ON e.officeCode = oof.officeCode\n",
    "WHERE p.productCode IN (\n",
    "    SELECT od.productCode\n",
    "    FROM orderdetails od\n",
    "    JOIN orders o ON od.orderNumber = o.orderNumber\n",
    "    JOIN customers c ON o.customerNumber = c.customerNumber\n",
    "    GROUP BY od.productCode\n",
    "    HAVING COUNT(DISTINCT c.customerNumber) < 20\n",
    ");\n",
    "\"\"\"\n",
    "\n",
    "pd.read_sql(p, conn)"
   ]
  },
  {
   "cell_type": "markdown",
   "metadata": {},
   "source": [
    "## Select the Employee Number, First Name, Last Name, and Number of Customers for Employees Whose Customers Have an Average Credit Limit Over 15K"
   ]
  },
  {
   "cell_type": "code",
   "execution_count": 31,
   "metadata": {},
   "outputs": [
    {
     "ename": "DatabaseError",
     "evalue": "Execution failed on sql ' \nSELECT e.employeeNumber, e.firstName, e.lastName, COUNT(DISTINCT c.customerNumber) AS NumCustomers\nFROM employees e \nJOIN (SELECT DISTINCT c.customerNumber, c.salesRepEmployeeNumber\n                  FROM customers c\n                  JOIN orders o ON c.customerNumber = o.customerNumber\n                  WHERE c.creditLimit > 15000)\n                  AS fc ON e.employeeNumber = fc.salesRepEmployeeNumber\nGROUP BY e.employeeNumber, e.firstName, e.lastName\nORDER BY NumCustomers DESC;\n': no such column: c.customerNumber",
     "output_type": "error",
     "traceback": [
      "\u001b[1;31m---------------------------------------------------------------------------\u001b[0m",
      "\u001b[1;31mOperationalError\u001b[0m                          Traceback (most recent call last)",
      "\u001b[1;32mc:\\Users\\Debbie\\AppData\\Local\\anaconda3\\envs\\learn-env\\lib\\site-packages\\pandas\\io\\sql.py\u001b[0m in \u001b[0;36mexecute\u001b[1;34m(self, *args, **kwargs)\u001b[0m\n\u001b[0;32m   1680\u001b[0m         \u001b[1;32mtry\u001b[0m\u001b[1;33m:\u001b[0m\u001b[1;33m\u001b[0m\u001b[1;33m\u001b[0m\u001b[0m\n\u001b[1;32m-> 1681\u001b[1;33m             \u001b[0mcur\u001b[0m\u001b[1;33m.\u001b[0m\u001b[0mexecute\u001b[0m\u001b[1;33m(\u001b[0m\u001b[1;33m*\u001b[0m\u001b[0margs\u001b[0m\u001b[1;33m,\u001b[0m \u001b[1;33m**\u001b[0m\u001b[0mkwargs\u001b[0m\u001b[1;33m)\u001b[0m\u001b[1;33m\u001b[0m\u001b[1;33m\u001b[0m\u001b[0m\n\u001b[0m\u001b[0;32m   1682\u001b[0m             \u001b[1;32mreturn\u001b[0m \u001b[0mcur\u001b[0m\u001b[1;33m\u001b[0m\u001b[1;33m\u001b[0m\u001b[0m\n",
      "\u001b[1;31mOperationalError\u001b[0m: no such column: c.customerNumber",
      "\nThe above exception was the direct cause of the following exception:\n",
      "\u001b[1;31mDatabaseError\u001b[0m                             Traceback (most recent call last)",
      "\u001b[1;32m<ipython-input-31-d3824c38a82c>\u001b[0m in \u001b[0;36m<module>\u001b[1;34m\u001b[0m\n\u001b[0;32m     12\u001b[0m \"\"\"\n\u001b[0;32m     13\u001b[0m \u001b[1;33m\u001b[0m\u001b[0m\n\u001b[1;32m---> 14\u001b[1;33m \u001b[0mpd\u001b[0m\u001b[1;33m.\u001b[0m\u001b[0mread_sql\u001b[0m\u001b[1;33m(\u001b[0m\u001b[0mp\u001b[0m\u001b[1;33m,\u001b[0m \u001b[0mconn\u001b[0m\u001b[1;33m)\u001b[0m\u001b[1;33m\u001b[0m\u001b[1;33m\u001b[0m\u001b[0m\n\u001b[0m",
      "\u001b[1;32mc:\\Users\\Debbie\\AppData\\Local\\anaconda3\\envs\\learn-env\\lib\\site-packages\\pandas\\io\\sql.py\u001b[0m in \u001b[0;36mread_sql\u001b[1;34m(sql, con, index_col, coerce_float, params, parse_dates, columns, chunksize)\u001b[0m\n\u001b[0;32m    481\u001b[0m \u001b[1;33m\u001b[0m\u001b[0m\n\u001b[0;32m    482\u001b[0m     \u001b[1;32mif\u001b[0m \u001b[0misinstance\u001b[0m\u001b[1;33m(\u001b[0m\u001b[0mpandas_sql\u001b[0m\u001b[1;33m,\u001b[0m \u001b[0mSQLiteDatabase\u001b[0m\u001b[1;33m)\u001b[0m\u001b[1;33m:\u001b[0m\u001b[1;33m\u001b[0m\u001b[1;33m\u001b[0m\u001b[0m\n\u001b[1;32m--> 483\u001b[1;33m         return pandas_sql.read_query(\n\u001b[0m\u001b[0;32m    484\u001b[0m             \u001b[0msql\u001b[0m\u001b[1;33m,\u001b[0m\u001b[1;33m\u001b[0m\u001b[1;33m\u001b[0m\u001b[0m\n\u001b[0;32m    485\u001b[0m             \u001b[0mindex_col\u001b[0m\u001b[1;33m=\u001b[0m\u001b[0mindex_col\u001b[0m\u001b[1;33m,\u001b[0m\u001b[1;33m\u001b[0m\u001b[1;33m\u001b[0m\u001b[0m\n",
      "\u001b[1;32mc:\\Users\\Debbie\\AppData\\Local\\anaconda3\\envs\\learn-env\\lib\\site-packages\\pandas\\io\\sql.py\u001b[0m in \u001b[0;36mread_query\u001b[1;34m(self, sql, index_col, coerce_float, params, parse_dates, chunksize)\u001b[0m\n\u001b[0;32m   1725\u001b[0m \u001b[1;33m\u001b[0m\u001b[0m\n\u001b[0;32m   1726\u001b[0m         \u001b[0margs\u001b[0m \u001b[1;33m=\u001b[0m \u001b[0m_convert_params\u001b[0m\u001b[1;33m(\u001b[0m\u001b[0msql\u001b[0m\u001b[1;33m,\u001b[0m \u001b[0mparams\u001b[0m\u001b[1;33m)\u001b[0m\u001b[1;33m\u001b[0m\u001b[1;33m\u001b[0m\u001b[0m\n\u001b[1;32m-> 1727\u001b[1;33m         \u001b[0mcursor\u001b[0m \u001b[1;33m=\u001b[0m \u001b[0mself\u001b[0m\u001b[1;33m.\u001b[0m\u001b[0mexecute\u001b[0m\u001b[1;33m(\u001b[0m\u001b[1;33m*\u001b[0m\u001b[0margs\u001b[0m\u001b[1;33m)\u001b[0m\u001b[1;33m\u001b[0m\u001b[1;33m\u001b[0m\u001b[0m\n\u001b[0m\u001b[0;32m   1728\u001b[0m         \u001b[0mcolumns\u001b[0m \u001b[1;33m=\u001b[0m \u001b[1;33m[\u001b[0m\u001b[0mcol_desc\u001b[0m\u001b[1;33m[\u001b[0m\u001b[1;36m0\u001b[0m\u001b[1;33m]\u001b[0m \u001b[1;32mfor\u001b[0m \u001b[0mcol_desc\u001b[0m \u001b[1;32min\u001b[0m \u001b[0mcursor\u001b[0m\u001b[1;33m.\u001b[0m\u001b[0mdescription\u001b[0m\u001b[1;33m]\u001b[0m\u001b[1;33m\u001b[0m\u001b[1;33m\u001b[0m\u001b[0m\n\u001b[0;32m   1729\u001b[0m \u001b[1;33m\u001b[0m\u001b[0m\n",
      "\u001b[1;32mc:\\Users\\Debbie\\AppData\\Local\\anaconda3\\envs\\learn-env\\lib\\site-packages\\pandas\\io\\sql.py\u001b[0m in \u001b[0;36mexecute\u001b[1;34m(self, *args, **kwargs)\u001b[0m\n\u001b[0;32m   1691\u001b[0m \u001b[1;33m\u001b[0m\u001b[0m\n\u001b[0;32m   1692\u001b[0m             \u001b[0mex\u001b[0m \u001b[1;33m=\u001b[0m \u001b[0mDatabaseError\u001b[0m\u001b[1;33m(\u001b[0m\u001b[1;34mf\"Execution failed on sql '{args[0]}': {exc}\"\u001b[0m\u001b[1;33m)\u001b[0m\u001b[1;33m\u001b[0m\u001b[1;33m\u001b[0m\u001b[0m\n\u001b[1;32m-> 1693\u001b[1;33m             \u001b[1;32mraise\u001b[0m \u001b[0mex\u001b[0m \u001b[1;32mfrom\u001b[0m \u001b[0mexc\u001b[0m\u001b[1;33m\u001b[0m\u001b[1;33m\u001b[0m\u001b[0m\n\u001b[0m\u001b[0;32m   1694\u001b[0m \u001b[1;33m\u001b[0m\u001b[0m\n\u001b[0;32m   1695\u001b[0m     \u001b[1;33m@\u001b[0m\u001b[0mstaticmethod\u001b[0m\u001b[1;33m\u001b[0m\u001b[1;33m\u001b[0m\u001b[0m\n",
      "\u001b[1;31mDatabaseError\u001b[0m: Execution failed on sql ' \nSELECT e.employeeNumber, e.firstName, e.lastName, COUNT(DISTINCT c.customerNumber) AS NumCustomers\nFROM employees e \nJOIN (SELECT DISTINCT c.customerNumber, c.salesRepEmployeeNumber\n                  FROM customers c\n                  JOIN orders o ON c.customerNumber = o.customerNumber\n                  WHERE c.creditLimit > 15000)\n                  AS fc ON e.employeeNumber = fc.salesRepEmployeeNumber\nGROUP BY e.employeeNumber, e.firstName, e.lastName\nORDER BY NumCustomers DESC;\n': no such column: c.customerNumber"
     ]
    }
   ],
   "source": [
    "# Your code here\n",
    "p = \"\"\" \n",
    "SELECT e.employeeNumber, e.firstName, e.lastName, COUNT(DISTINCT c.customerNumber) AS NumCustomers\n",
    "FROM employees e \n",
    "JOIN (SELECT DISTINCT c.customerNumber, c.salesRepEmployeeNumber\n",
    "                  FROM customers c\n",
    "                  JOIN orders o ON c.customerNumber = o.customerNumber\n",
    "                  WHERE c.creditLimit > 15000)\n",
    "                  AS fc ON e.employeeNumber = fc.salesRepEmployeeNumber\n",
    "GROUP BY e.employeeNumber, e.firstName, e.lastName\n",
    "ORDER BY NumCustomers DESC;\n",
    "\"\"\"\n",
    "\n",
    "pd.read_sql(p, conn)"
   ]
  },
  {
   "cell_type": "code",
   "execution_count": 32,
   "metadata": {},
   "outputs": [
    {
     "data": {
      "application/vnd.microsoft.datawrangler.viewer.v0+json": {
       "columns": [
        {
         "name": "index",
         "rawType": "int64",
         "type": "integer"
        },
        {
         "name": "employeeNumber",
         "rawType": "int64",
         "type": "integer"
        },
        {
         "name": "firstName",
         "rawType": "object",
         "type": "string"
        },
        {
         "name": "lastName",
         "rawType": "object",
         "type": "string"
        },
        {
         "name": "NumCustomers",
         "rawType": "int64",
         "type": "integer"
        }
       ],
       "conversionMethod": "pd.DataFrame",
       "ref": "cc8c1304-ab6d-4dab-8e89-ba83e7f20526",
       "rows": [
        [
         "0",
         "1401",
         "Pamela",
         "Castillo",
         "10"
        ],
        [
         "1",
         "1504",
         "Barry",
         "Jones",
         "9"
        ],
        [
         "2",
         "1323",
         "George",
         "Vanauf",
         "8"
        ],
        [
         "3",
         "1501",
         "Larry",
         "Bott",
         "8"
        ],
        [
         "4",
         "1370",
         "Gerard",
         "Hernandez",
         "7"
        ],
        [
         "5",
         "1165",
         "Leslie",
         "Jennings",
         "6"
        ],
        [
         "6",
         "1188",
         "Julie",
         "Firrelli",
         "6"
        ],
        [
         "7",
         "1216",
         "Steve",
         "Patterson",
         "6"
        ],
        [
         "8",
         "1286",
         "Foon Yue",
         "Tseng",
         "6"
        ],
        [
         "9",
         "1337",
         "Loui",
         "Bondur",
         "6"
        ],
        [
         "10",
         "1166",
         "Leslie",
         "Thompson",
         "5"
        ],
        [
         "11",
         "1611",
         "Andy",
         "Fixter",
         "5"
        ],
        [
         "12",
         "1612",
         "Peter",
         "Marsh",
         "5"
        ],
        [
         "13",
         "1621",
         "Mami",
         "Nishi",
         "5"
        ],
        [
         "14",
         "1702",
         "Martin",
         "Gerard",
         "5"
        ]
       ],
       "shape": {
        "columns": 4,
        "rows": 15
       }
      },
      "text/html": [
       "<div>\n",
       "<style scoped>\n",
       "    .dataframe tbody tr th:only-of-type {\n",
       "        vertical-align: middle;\n",
       "    }\n",
       "\n",
       "    .dataframe tbody tr th {\n",
       "        vertical-align: top;\n",
       "    }\n",
       "\n",
       "    .dataframe thead th {\n",
       "        text-align: right;\n",
       "    }\n",
       "</style>\n",
       "<table border=\"1\" class=\"dataframe\">\n",
       "  <thead>\n",
       "    <tr style=\"text-align: right;\">\n",
       "      <th></th>\n",
       "      <th>employeeNumber</th>\n",
       "      <th>firstName</th>\n",
       "      <th>lastName</th>\n",
       "      <th>NumCustomers</th>\n",
       "    </tr>\n",
       "  </thead>\n",
       "  <tbody>\n",
       "    <tr>\n",
       "      <th>0</th>\n",
       "      <td>1401</td>\n",
       "      <td>Pamela</td>\n",
       "      <td>Castillo</td>\n",
       "      <td>10</td>\n",
       "    </tr>\n",
       "    <tr>\n",
       "      <th>1</th>\n",
       "      <td>1504</td>\n",
       "      <td>Barry</td>\n",
       "      <td>Jones</td>\n",
       "      <td>9</td>\n",
       "    </tr>\n",
       "    <tr>\n",
       "      <th>2</th>\n",
       "      <td>1323</td>\n",
       "      <td>George</td>\n",
       "      <td>Vanauf</td>\n",
       "      <td>8</td>\n",
       "    </tr>\n",
       "    <tr>\n",
       "      <th>3</th>\n",
       "      <td>1501</td>\n",
       "      <td>Larry</td>\n",
       "      <td>Bott</td>\n",
       "      <td>8</td>\n",
       "    </tr>\n",
       "    <tr>\n",
       "      <th>4</th>\n",
       "      <td>1370</td>\n",
       "      <td>Gerard</td>\n",
       "      <td>Hernandez</td>\n",
       "      <td>7</td>\n",
       "    </tr>\n",
       "    <tr>\n",
       "      <th>5</th>\n",
       "      <td>1165</td>\n",
       "      <td>Leslie</td>\n",
       "      <td>Jennings</td>\n",
       "      <td>6</td>\n",
       "    </tr>\n",
       "    <tr>\n",
       "      <th>6</th>\n",
       "      <td>1188</td>\n",
       "      <td>Julie</td>\n",
       "      <td>Firrelli</td>\n",
       "      <td>6</td>\n",
       "    </tr>\n",
       "    <tr>\n",
       "      <th>7</th>\n",
       "      <td>1216</td>\n",
       "      <td>Steve</td>\n",
       "      <td>Patterson</td>\n",
       "      <td>6</td>\n",
       "    </tr>\n",
       "    <tr>\n",
       "      <th>8</th>\n",
       "      <td>1286</td>\n",
       "      <td>Foon Yue</td>\n",
       "      <td>Tseng</td>\n",
       "      <td>6</td>\n",
       "    </tr>\n",
       "    <tr>\n",
       "      <th>9</th>\n",
       "      <td>1337</td>\n",
       "      <td>Loui</td>\n",
       "      <td>Bondur</td>\n",
       "      <td>6</td>\n",
       "    </tr>\n",
       "    <tr>\n",
       "      <th>10</th>\n",
       "      <td>1166</td>\n",
       "      <td>Leslie</td>\n",
       "      <td>Thompson</td>\n",
       "      <td>5</td>\n",
       "    </tr>\n",
       "    <tr>\n",
       "      <th>11</th>\n",
       "      <td>1611</td>\n",
       "      <td>Andy</td>\n",
       "      <td>Fixter</td>\n",
       "      <td>5</td>\n",
       "    </tr>\n",
       "    <tr>\n",
       "      <th>12</th>\n",
       "      <td>1612</td>\n",
       "      <td>Peter</td>\n",
       "      <td>Marsh</td>\n",
       "      <td>5</td>\n",
       "    </tr>\n",
       "    <tr>\n",
       "      <th>13</th>\n",
       "      <td>1621</td>\n",
       "      <td>Mami</td>\n",
       "      <td>Nishi</td>\n",
       "      <td>5</td>\n",
       "    </tr>\n",
       "    <tr>\n",
       "      <th>14</th>\n",
       "      <td>1702</td>\n",
       "      <td>Martin</td>\n",
       "      <td>Gerard</td>\n",
       "      <td>5</td>\n",
       "    </tr>\n",
       "  </tbody>\n",
       "</table>\n",
       "</div>"
      ],
      "text/plain": [
       "    employeeNumber firstName   lastName  NumCustomers\n",
       "0             1401    Pamela   Castillo            10\n",
       "1             1504     Barry      Jones             9\n",
       "2             1323    George     Vanauf             8\n",
       "3             1501     Larry       Bott             8\n",
       "4             1370    Gerard  Hernandez             7\n",
       "5             1165    Leslie   Jennings             6\n",
       "6             1188     Julie   Firrelli             6\n",
       "7             1216     Steve  Patterson             6\n",
       "8             1286  Foon Yue      Tseng             6\n",
       "9             1337      Loui     Bondur             6\n",
       "10            1166    Leslie   Thompson             5\n",
       "11            1611      Andy     Fixter             5\n",
       "12            1612     Peter      Marsh             5\n",
       "13            1621      Mami      Nishi             5\n",
       "14            1702    Martin     Gerard             5"
      ]
     },
     "execution_count": 32,
     "metadata": {},
     "output_type": "execute_result"
    }
   ],
   "source": [
    "p = \"\"\" \n",
    "SELECT \n",
    "    e.employeeNumber, \n",
    "    e.firstName, \n",
    "    e.lastName, \n",
    "    COUNT(DISTINCT fc.customerNumber) AS NumCustomers\n",
    "FROM employees e \n",
    "JOIN (\n",
    "    SELECT DISTINCT c.customerNumber, c.salesRepEmployeeNumber\n",
    "    FROM customers c\n",
    "    JOIN orders o ON c.customerNumber = o.customerNumber\n",
    "    WHERE c.creditLimit > 15000\n",
    ") AS fc ON e.employeeNumber = fc.salesRepEmployeeNumber\n",
    "GROUP BY e.employeeNumber, e.firstName, e.lastName\n",
    "ORDER BY NumCustomers DESC;\n",
    "\"\"\"\n",
    "pd.read_sql(p, conn)\n"
   ]
  },
  {
   "cell_type": "markdown",
   "metadata": {},
   "source": [
    "## Summary\n",
    "\n",
    "In this lesson, you got to practice some more complex SQL queries, some of which required subqueries. There's still plenty more SQL to be had though; hope you've been enjoying some of these puzzles!"
   ]
  }
 ],
 "metadata": {
  "kernelspec": {
   "display_name": "learn-env",
   "language": "python",
   "name": "python3"
  },
  "language_info": {
   "codemirror_mode": {
    "name": "ipython",
    "version": 3
   },
   "file_extension": ".py",
   "mimetype": "text/x-python",
   "name": "python",
   "nbconvert_exporter": "python",
   "pygments_lexer": "ipython3",
   "version": "3.8.5"
  },
  "toc": {
   "base_numbering": 1,
   "nav_menu": {},
   "number_sections": true,
   "sideBar": true,
   "skip_h1_title": false,
   "title_cell": "Table of Contents",
   "title_sidebar": "Contents",
   "toc_cell": false,
   "toc_position": {},
   "toc_section_display": true,
   "toc_window_display": false
  }
 },
 "nbformat": 4,
 "nbformat_minor": 2
}
